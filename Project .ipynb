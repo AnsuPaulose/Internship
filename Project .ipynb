{
 "cells": [
  {
   "cell_type": "markdown",
   "id": "4b80d689",
   "metadata": {},
   "source": [
    "Question 1"
   ]
  },
  {
   "cell_type": "code",
   "execution_count": 41,
   "id": "9e2cac5b",
   "metadata": {},
   "outputs": [
    {
     "name": "stdout",
     "output_type": "stream",
     "text": [
      "Python:Exercises::PHP:exercises:\n"
     ]
    }
   ],
   "source": [
    "import re\n",
    "Sample_text = 'Python Exercises, PHP exercises.'\n",
    "print(re.sub(\"[ ,.]\", \":\", Sample_text))\n"
   ]
  },
  {
   "cell_type": "code",
   "execution_count": null,
   "id": "20f376d2",
   "metadata": {},
   "outputs": [],
   "source": []
  },
  {
   "cell_type": "markdown",
   "id": "6f2eb001",
   "metadata": {},
   "source": [
    "Question 2"
   ]
  },
  {
   "cell_type": "code",
   "execution_count": 58,
   "id": "d8e46b69",
   "metadata": {
    "scrolled": true
   },
   "outputs": [
    {
     "name": "stdout",
     "output_type": "stream",
     "text": [
      "            SUMMARY\n",
      "0       hello world\n",
      "1              test\n",
      "2  123four five six\n"
     ]
    }
   ],
   "source": [
    "import pandas as pd\n",
    "import re\n",
    "\n",
    "data = {'SUMMARY': ['hello, world!', '**** test', '123four, five:; six...']}\n",
    "\n",
    "df = pd.DataFrame(data)\n",
    "\n",
    "df['SUMMARY'] = df['SUMMARY'].apply(lambda x: re.sub(r'[^\\w\\s]', '', x))\n",
    "\n",
    "print(df)\n"
   ]
  },
  {
   "cell_type": "code",
   "execution_count": 55,
   "id": "3f96384c",
   "metadata": {},
   "outputs": [],
   "source": []
  },
  {
   "cell_type": "markdown",
   "id": "9f61450b",
   "metadata": {},
   "source": [
    "Question 3"
   ]
  },
  {
   "cell_type": "code",
   "execution_count": 46,
   "id": "bd3dd8d3",
   "metadata": {},
   "outputs": [],
   "source": [
    "import re\n",
    "\n",
    "def find_words(string):\n",
    "    pattern = re.compile(r'\\b\\w{4,}\\b')\n",
    "    words = re.findall(pattern, string)\n",
    "    return words\n"
   ]
  },
  {
   "cell_type": "code",
   "execution_count": 47,
   "id": "d52e8521",
   "metadata": {},
   "outputs": [
    {
     "name": "stdout",
     "output_type": "stream",
     "text": [
      "['name', 'Ansu', 'this', 'sample', 'project']\n"
     ]
    }
   ],
   "source": [
    "text = \"My name is Ansu.And this is the sample project.\"\n",
    "result = find_words(text)\n",
    "print(result)"
   ]
  },
  {
   "cell_type": "code",
   "execution_count": null,
   "id": "e6ed0b99",
   "metadata": {},
   "outputs": [],
   "source": [
    "\n"
   ]
  },
  {
   "cell_type": "markdown",
   "id": "95ef9082",
   "metadata": {},
   "source": [
    "Question 4"
   ]
  },
  {
   "cell_type": "code",
   "execution_count": 42,
   "id": "f862a0b2",
   "metadata": {},
   "outputs": [],
   "source": [
    "import re\n",
    "\n",
    "def find_words(string):\n",
    "    pattern = re.compile(r'\\b\\w{3,6}\\b')\n",
    "    words = re.findall(pattern, string)\n",
    "    return words\n"
   ]
  },
  {
   "cell_type": "code",
   "execution_count": 64,
   "id": "13daa4d7",
   "metadata": {},
   "outputs": [
    {
     "name": "stdout",
     "output_type": "stream",
     "text": [
      "['name', 'Ansu', 'And', 'this', 'the', 'sample']\n"
     ]
    }
   ],
   "source": [
    "text = \"My name is Ansu.And this is the sample project.\"\n",
    "result = find_words(text)\n",
    "print(result)"
   ]
  },
  {
   "cell_type": "code",
   "execution_count": null,
   "id": "f3fcb5d6",
   "metadata": {},
   "outputs": [],
   "source": []
  },
  {
   "cell_type": "markdown",
   "id": "bdf9c561",
   "metadata": {},
   "source": [
    "Question 5"
   ]
  },
  {
   "cell_type": "code",
   "execution_count": 65,
   "id": "f6822033",
   "metadata": {},
   "outputs": [
    {
     "name": "stdout",
     "output_type": "stream",
     "text": [
      "example .com\n",
      "hr@fliprobo .com\n",
      "github .com\n",
      "Hello Data Science World\n",
      "Data Scientist\n"
     ]
    }
   ],
   "source": [
    "import re\n",
    "\n",
    "def remove_parentheses(strings):\n",
    "    pattern = re.compile(r'\\(|\\)')\n",
    "    \n",
    "    cleaned_strings = [pattern.sub('', string) for string in strings]\n",
    "    \n",
    "    return cleaned_strings\n",
    "\n",
    "sample_text = [\"example (.com)\", \"hr@fliprobo (.com)\", \"github (.com)\", \"Hello (Data Science World)\", \"Data (Scientist)\"]\n",
    "\n",
    "cleaned_text = remove_parentheses(sample_text)\n",
    "for string in cleaned_text:\n",
    "    print(string)\n",
    "\n"
   ]
  },
  {
   "cell_type": "code",
   "execution_count": null,
   "id": "55a7f1b0",
   "metadata": {},
   "outputs": [],
   "source": []
  },
  {
   "cell_type": "markdown",
   "id": "c3b52ed0",
   "metadata": {},
   "source": [
    "Question 6"
   ]
  },
  {
   "cell_type": "code",
   "execution_count": 69,
   "id": "694b2bfe",
   "metadata": {},
   "outputs": [
    {
     "name": "stdout",
     "output_type": "stream",
     "text": [
      "['example ', 'hr@fliprobo ', 'github ', 'Hello ', 'Data ']\n"
     ]
    }
   ],
   "source": [
    "import re\n",
    "\n",
    "def remove_parenthesis(strings):\n",
    "    pattern = re.compile(r'\\([^)]*\\)')  \n",
    "    cleaned_strings = []\n",
    "\n",
    "    for string in strings:\n",
    "        cleaned_string = re.sub(pattern, '', string)\n",
    "        cleaned_strings.append(cleaned_string)\n",
    "\n",
    "    return cleaned_strings\n",
    "\n",
    "\n",
    "strings = [\"example (.com)\", \"hr@fliprobo (.com)\", \"github (.com)\", \"Hello (Data Science World)\", \"Data (Scientist)\"]\n",
    "result = remove_parenthesis(strings)\n",
    "print(result)\n"
   ]
  },
  {
   "cell_type": "code",
   "execution_count": null,
   "id": "2968ef76",
   "metadata": {},
   "outputs": [],
   "source": []
  },
  {
   "cell_type": "markdown",
   "id": "9e322c0f",
   "metadata": {},
   "source": [
    "Question 7"
   ]
  },
  {
   "cell_type": "code",
   "execution_count": 70,
   "id": "c6ebca13",
   "metadata": {},
   "outputs": [
    {
     "name": "stdout",
     "output_type": "stream",
     "text": [
      "['Importance', 'Of', 'Regular', 'Expressions', 'In', 'Python']\n"
     ]
    }
   ],
   "source": [
    "import re\n",
    "\n",
    "text = \"ImportanceOfRegularExpressionsInPython\"\n",
    "result = re.findall(r'[A-Z][^A-Z]*', text)\n",
    "print(result)\n"
   ]
  },
  {
   "cell_type": "code",
   "execution_count": null,
   "id": "1de01c6c",
   "metadata": {},
   "outputs": [],
   "source": []
  },
  {
   "cell_type": "markdown",
   "id": "6d8f61af",
   "metadata": {},
   "source": [
    "Question 8"
   ]
  },
  {
   "cell_type": "code",
   "execution_count": 44,
   "id": "44058adb",
   "metadata": {},
   "outputs": [
    {
     "name": "stdout",
     "output_type": "stream",
     "text": [
      "RegularExpression 1IsAn 2ImportantTopic 3InPython\n"
     ]
    }
   ],
   "source": [
    "import re\n",
    "\n",
    "def insert_spaces(text):\n",
    "    modified_text = re.sub(r'(?<=\\D)(?=\\d)', ' ', text)\n",
    "    return modified_text\n",
    "\n",
    "sample_text = \"RegularExpression1IsAn2ImportantTopic3InPython\"\n",
    "modified_text = insert_spaces(sample_text)\n",
    "print(modified_text)"
   ]
  },
  {
   "cell_type": "code",
   "execution_count": null,
   "id": "9a3dd587",
   "metadata": {},
   "outputs": [],
   "source": []
  },
  {
   "cell_type": "markdown",
   "id": "ca521451",
   "metadata": {},
   "source": [
    "Question 9"
   ]
  },
  {
   "cell_type": "code",
   "execution_count": 45,
   "id": "4c4d8366",
   "metadata": {},
   "outputs": [
    {
     "name": "stdout",
     "output_type": "stream",
     "text": [
      "Regular Expression 1 Is An 2 Important Topic 3 In Python\n"
     ]
    }
   ],
   "source": [
    "import re\n",
    "\n",
    "def insert_spaces(string):\n",
    "    result = re.findall('[A-Z][a-z]*|\\d+|[a-z]+', string)\n",
    "    return ' '.join(result)\n",
    "    \n",
    "text = \"RegularExpression1IsAn2ImportantTopic3InPython\"\n",
    "output = insert_spaces(text)\n",
    "print(output)\n"
   ]
  },
  {
   "cell_type": "code",
   "execution_count": null,
   "id": "34ed0a78",
   "metadata": {},
   "outputs": [],
   "source": []
  },
  {
   "cell_type": "markdown",
   "id": "50f7afab",
   "metadata": {},
   "source": [
    "Question 10"
   ]
  },
  {
   "cell_type": "code",
   "execution_count": 57,
   "id": "adbf26ff",
   "metadata": {},
   "outputs": [
    {
     "name": "stdout",
     "output_type": "stream",
     "text": [
      "       Country          Region  Happiness Rank  Happiness Score  \\\n",
      "0  Switzerland  Western Europe               1            7.587   \n",
      "1      Iceland  Western Europe               2            7.561   \n",
      "2      Denmark  Western Europe               3            7.527   \n",
      "3       Norway  Western Europe               4            7.522   \n",
      "4       Canada   North America               5            7.427   \n",
      "\n",
      "   Standard Error  Economy (GDP per Capita)   Family  \\\n",
      "0         0.03411                   1.39651  1.34951   \n",
      "1         0.04884                   1.30232  1.40223   \n",
      "2         0.03328                   1.32548  1.36058   \n",
      "3         0.03880                   1.45900  1.33095   \n",
      "4         0.03553                   1.32629  1.32261   \n",
      "\n",
      "   Health (Life Expectancy)  Freedom  Trust (Government Corruption)  \\\n",
      "0                   0.94143  0.66557                        0.41978   \n",
      "1                   0.94784  0.62877                        0.14145   \n",
      "2                   0.87464  0.64938                        0.48357   \n",
      "3                   0.88521  0.66973                        0.36503   \n",
      "4                   0.90563  0.63297                        0.32957   \n",
      "\n",
      "   Generosity  Dystopia Residual first_five_letters  \n",
      "0     0.29678            2.51738              Switz  \n",
      "1     0.43630            2.70201              Icela  \n",
      "2     0.34139            2.49204              Denma  \n",
      "3     0.34699            2.46531              Norwa  \n",
      "4     0.45811            2.45176              Canad  \n"
     ]
    }
   ],
   "source": [
    "import pandas as pd\n",
    "\n",
    "url = \"https://raw.githubusercontent.com/dsrscientist/DSData/master/happiness_score_dataset.csv\"\n",
    "df = pd.read_csv(url)\n",
    "\n",
    "df['first_five_letters'] = df['Country'].str[:5]\n",
    "\n",
    "print(df.head())\n",
    "\n"
   ]
  },
  {
   "cell_type": "code",
   "execution_count": null,
   "id": "ee595f0b",
   "metadata": {},
   "outputs": [],
   "source": [
    "\n",
    "\n"
   ]
  },
  {
   "cell_type": "markdown",
   "id": "3c848a96",
   "metadata": {},
   "source": [
    "Question 11"
   ]
  },
  {
   "cell_type": "code",
   "execution_count": 4,
   "id": "ec7f9ce6",
   "metadata": {},
   "outputs": [],
   "source": [
    "import re\n",
    "\n",
    "def is_valid_string(string):\n",
    "    pattern = r'^[a-zA-Z0-9_]+$'\n",
    "    match = re.match(pattern, string)\n",
    "    return match is not None\n",
    "\n",
    "\n",
    "\n"
   ]
  },
  {
   "cell_type": "code",
   "execution_count": 6,
   "id": "c2accaf3",
   "metadata": {},
   "outputs": [
    {
     "name": "stdout",
     "output_type": "stream",
     "text": [
      "hello_Ansu is a valid string.\n",
      "Hello_there is a valid string.\n",
      "Hi, there! is not a valid string.\n",
      "123456 is a valid string.\n",
      "abc123_ is a valid string.\n",
      "xyz@123_ is not a valid string.\n"
     ]
    }
   ],
   "source": [
    "strings = [\"hello_Ansu\", \"Hello_there\", \"Hi, there!\", \"123456\", \"abc123_\", \"xyz@123_\"]\n",
    "\n",
    "for string in strings:\n",
    "    if is_valid_string(string):\n",
    "        print(f\"{string} is a valid string.\")\n",
    "    else:\n",
    "        print(f\"{string} is not a valid string.\")"
   ]
  },
  {
   "cell_type": "code",
   "execution_count": null,
   "id": "a2803a8e",
   "metadata": {},
   "outputs": [],
   "source": []
  },
  {
   "cell_type": "markdown",
   "id": "d7aff942",
   "metadata": {},
   "source": [
    "Question 12"
   ]
  },
  {
   "cell_type": "code",
   "execution_count": 49,
   "id": "b265b65d",
   "metadata": {},
   "outputs": [],
   "source": [
    "def starts_with_number(string, number):\n",
    "    number_str = str(number)\n",
    "    \n",
    "    if string.startswith(number_str):\n",
    "        return True\n",
    "    else:\n",
    "        return False"
   ]
  },
  {
   "cell_type": "code",
   "execution_count": null,
   "id": "5325f20f",
   "metadata": {},
   "outputs": [],
   "source": []
  },
  {
   "cell_type": "markdown",
   "id": "73224467",
   "metadata": {},
   "source": [
    "Question 13"
   ]
  },
  {
   "cell_type": "code",
   "execution_count": 69,
   "id": "47fedd3e",
   "metadata": {},
   "outputs": [
    {
     "name": "stdout",
     "output_type": "stream",
     "text": [
      "116.8.4.196\n"
     ]
    }
   ],
   "source": [
    "import re\n",
    "ip = \"116.08.004.196\"\n",
    "string = re.sub('\\.[0]*', '.', ip)\n",
    "print(string)"
   ]
  },
  {
   "cell_type": "code",
   "execution_count": null,
   "id": "5e4a12c7",
   "metadata": {},
   "outputs": [],
   "source": []
  },
  {
   "cell_type": "markdown",
   "id": "07ba6d36",
   "metadata": {},
   "source": [
    "Question 14"
   ]
  },
  {
   "cell_type": "code",
   "execution_count": 53,
   "id": "ac058013",
   "metadata": {},
   "outputs": [
    {
     "name": "stdout",
     "output_type": "stream",
     "text": [
      "('August 15th 1947', 'th')\n"
     ]
    }
   ],
   "source": [
    "import re\n",
    "\n",
    "with open('E:\\project practice\\Text.csv', 'r') as file:\n",
    "    text = file.read()\n",
    "\n",
    "pattern = r'\\b([A-Z][a-z]+ \\d+(st|nd|rd|th) \\d{4})\\b'\n",
    "\n",
    "matches = re.findall(pattern, text)\n",
    "\n",
    "if matches:\n",
    "    print(matches[0])\n",
    "else:\n",
    "    print(\"No date string found in the specified format.\")\n"
   ]
  },
  {
   "cell_type": "code",
   "execution_count": null,
   "id": "af203ffe",
   "metadata": {},
   "outputs": [],
   "source": []
  },
  {
   "cell_type": "markdown",
   "id": "195691c0",
   "metadata": {},
   "source": [
    "Question 15"
   ]
  },
  {
   "cell_type": "code",
   "execution_count": 16,
   "id": "23e4577e",
   "metadata": {},
   "outputs": [
    {
     "name": "stdout",
     "output_type": "stream",
     "text": [
      "Found words: ['fox', 'dog']\n"
     ]
    }
   ],
   "source": [
    "def search_words(text, words):\n",
    "    found_words = []\n",
    "    for word in words:\n",
    "        if word in text:\n",
    "            found_words.append(word)\n",
    "    return found_words\n",
    "\n",
    "text = 'The quick brown fox jumps over the lazy dog.'\n",
    "searched_words = ['fox', 'dog', 'horse']\n",
    "\n",
    "found_words = search_words(text, searched_words)\n",
    "print(\"Found words:\", found_words)\n"
   ]
  },
  {
   "cell_type": "code",
   "execution_count": null,
   "id": "84f55bdc",
   "metadata": {},
   "outputs": [],
   "source": []
  },
  {
   "cell_type": "markdown",
   "id": "93f65cd1",
   "metadata": {},
   "source": [
    "Question 16"
   ]
  },
  {
   "cell_type": "code",
   "execution_count": 18,
   "id": "df1211a9",
   "metadata": {},
   "outputs": [
    {
     "name": "stdout",
     "output_type": "stream",
     "text": [
      "The pattern 'fox' is found at location(s):\n",
      "16\n"
     ]
    }
   ],
   "source": [
    "def search_string(text, pattern):\n",
    "    locations = []\n",
    "    start = 0\n",
    "    \n",
    "    while True:\n",
    "        index = text.find(pattern, start)\n",
    "        if index == -1:\n",
    "            break\n",
    "        locations.append(index)\n",
    "        start = index + 1\n",
    "    \n",
    "    return locations\n",
    "\n",
    "text = 'The quick brown fox jumps over the lazy dog.'\n",
    "pattern = 'fox'\n",
    "result = search_string(text, pattern)\n",
    "\n",
    "if len(result) > 0:\n",
    "    print(f\"The pattern '{pattern}' is found at location(s):\")\n",
    "    for location in result:\n",
    "        print(location)\n",
    "else:\n",
    "    print(f\"The pattern '{pattern}' is not found in the text.\")\n"
   ]
  },
  {
   "cell_type": "code",
   "execution_count": null,
   "id": "9ab0a4d5",
   "metadata": {},
   "outputs": [],
   "source": []
  },
  {
   "cell_type": "markdown",
   "id": "ce814b91",
   "metadata": {},
   "source": [
    "Question 17"
   ]
  },
  {
   "cell_type": "code",
   "execution_count": 19,
   "id": "63539df4",
   "metadata": {},
   "outputs": [
    {
     "name": "stdout",
     "output_type": "stream",
     "text": [
      "Occurrences of 'exercises' within the string: ['exercises', 'exercises', 'exercises']\n"
     ]
    }
   ],
   "source": [
    "import re\n",
    "\n",
    "def find_substrings(string, pattern):\n",
    "    matches = re.findall(pattern, string)\n",
    "    return matches\n",
    "\n",
    "text = 'Python exercises, PHP exercises, C# exercises'\n",
    "pattern = 'exercises'\n",
    "\n",
    "result = find_substrings(text, pattern)\n",
    "\n",
    "print(\"Occurrences of '{0}' within the string: {1}\".format(pattern, result))\n"
   ]
  },
  {
   "cell_type": "code",
   "execution_count": null,
   "id": "06467612",
   "metadata": {},
   "outputs": [],
   "source": []
  },
  {
   "cell_type": "markdown",
   "id": "2ceb27c2",
   "metadata": {},
   "source": [
    "Question 18"
   ]
  },
  {
   "cell_type": "code",
   "execution_count": 71,
   "id": "270b8391",
   "metadata": {},
   "outputs": [
    {
     "name": "stdout",
     "output_type": "stream",
     "text": [
      "The substring 'you' was found 2 times at positions: [15, 26]\n"
     ]
    }
   ],
   "source": [
    "def find_substring(string, substring):\n",
    "    occurrences = []\n",
    "    position = -1\n",
    "    while True:\n",
    "        position = string.find(substring, position + 1)\n",
    "        if position == -1:\n",
    "            break\n",
    "        occurrences.append(position)\n",
    "    return occurrences\n",
    "\n",
    "# Example \n",
    "string = \"Hello, how are you? Could you please forward number of Anita\"\n",
    "substring = \"you\"\n",
    "occurrences = find_substring(string, substring)\n",
    "\n",
    "if occurrences:\n",
    "    print(f\"The substring '{substring}' was found {len(occurrences)} times at positions: {occurrences}\")\n",
    "else:\n",
    "    print(f\"The substring '{substring}' was not found in the string.\")\n"
   ]
  },
  {
   "cell_type": "code",
   "execution_count": null,
   "id": "4e6f1bd0",
   "metadata": {},
   "outputs": [],
   "source": []
  },
  {
   "cell_type": "markdown",
   "id": "78b951b0",
   "metadata": {},
   "source": [
    "Question 19"
   ]
  },
  {
   "cell_type": "code",
   "execution_count": 70,
   "id": "b76a503b",
   "metadata": {},
   "outputs": [
    {
     "name": "stdout",
     "output_type": "stream",
     "text": [
      "21-10-1996\n"
     ]
    }
   ],
   "source": [
    "\n",
    "\n",
    "def convert_date(date):\n",
    "    yyyy, mm, dd = date.split('-')\n",
    "    return f\"{dd}-{mm}-{yyyy}\"\n",
    "\n",
    "# Example \n",
    "date = \"1996-10-21\"\n",
    "converted_date = convert_date(date)\n",
    "print(converted_date)"
   ]
  },
  {
   "cell_type": "code",
   "execution_count": null,
   "id": "7bd579e2",
   "metadata": {},
   "outputs": [],
   "source": []
  },
  {
   "cell_type": "markdown",
   "id": "c4de03ae",
   "metadata": {},
   "source": [
    "Question 20"
   ]
  },
  {
   "cell_type": "code",
   "execution_count": 23,
   "id": "b1a996cd",
   "metadata": {},
   "outputs": [
    {
     "name": "stdout",
     "output_type": "stream",
     "text": [
      "['01.12', '145.8', '3.01', '27.25', '0.25']\n"
     ]
    }
   ],
   "source": [
    "import re\n",
    "\n",
    "def find_decimal_numbers(text):\n",
    "    pattern = re.compile(r'\\b\\d+\\.\\d{1,2}\\b')\n",
    "    decimal_numbers = re.findall(pattern, text)\n",
    "    return decimal_numbers\n",
    "\n",
    "text = \"01.12 0132.123 2.31875 145.8 3.01 27.25 0.25\"\n",
    "result = find_decimal_numbers(text)\n",
    "print(result)\n"
   ]
  },
  {
   "cell_type": "code",
   "execution_count": null,
   "id": "ad908cf8",
   "metadata": {},
   "outputs": [],
   "source": []
  },
  {
   "cell_type": "markdown",
   "id": "b2bd00a6",
   "metadata": {},
   "source": [
    "Question 21"
   ]
  },
  {
   "cell_type": "code",
   "execution_count": 55,
   "id": "c1fd2227",
   "metadata": {},
   "outputs": [
    {
     "name": "stdout",
     "output_type": "stream",
     "text": [
      "Number: 1 | Position: 3\n",
      "Number: 2 | Position: 4\n",
      "Number: 3 | Position: 5\n",
      "Number: 4 | Position: 9\n",
      "Number: 5 | Position: 10\n",
      "Number: 6 | Position: 11\n"
     ]
    }
   ],
   "source": [
    "def separate_numbers_positions(string):\n",
    "    numbers = []\n",
    "    positions = []\n",
    "    \n",
    "    for index, char in enumerate(string):\n",
    "        if char.isdigit():\n",
    "            numbers.append(int(char))\n",
    "            positions.append(index)\n",
    "    \n",
    "    for num, pos in zip(numbers, positions):\n",
    "        print(f\"Number: {num} | Position: {pos}\")\n",
    "\n",
    "# Example \n",
    "input_string = \"abc123xyz456\"\n",
    "separate_numbers_positions(input_string)\n"
   ]
  },
  {
   "cell_type": "code",
   "execution_count": null,
   "id": "514ade90",
   "metadata": {},
   "outputs": [],
   "source": []
  },
  {
   "cell_type": "markdown",
   "id": "0f67b843",
   "metadata": {},
   "source": [
    "Question 22"
   ]
  },
  {
   "cell_type": "code",
   "execution_count": 26,
   "id": "4de472de",
   "metadata": {},
   "outputs": [
    {
     "name": "stdout",
     "output_type": "stream",
     "text": [
      "The maximum value is: 950\n"
     ]
    }
   ],
   "source": [
    "import re\n",
    "\n",
    "def extract_maximum_value(text):\n",
    "    numbers = re.findall(r'\\d+', text)  \n",
    "    if numbers:\n",
    "        max_number = max(map(int, numbers))  \n",
    "        return max_number\n",
    "    else:\n",
    "        return None\n",
    "\n",
    "# Example :\n",
    "text = 'My marks in each semester are: 947, 896, 926, 524, 734, 950, 642'\n",
    "max_value = extract_maximum_value(text)\n",
    "print(f\"The maximum value is: {max_value}\")\n"
   ]
  },
  {
   "cell_type": "code",
   "execution_count": null,
   "id": "efb8efcb",
   "metadata": {},
   "outputs": [],
   "source": []
  },
  {
   "cell_type": "markdown",
   "id": "837ccf12",
   "metadata": {},
   "source": [
    "Question 23"
   ]
  },
  {
   "cell_type": "code",
   "execution_count": 28,
   "id": "cb9983d4",
   "metadata": {},
   "outputs": [
    {
     "name": "stdout",
     "output_type": "stream",
     "text": [
      "Regular Expression Is An Important Topic In Python\n"
     ]
    }
   ],
   "source": [
    "import re\n",
    "\n",
    "def insert_spaces(text):\n",
    "    words = re.findall('[A-Z][a-z]*', text)\n",
    "    \n",
    "    for word in words:\n",
    "        text = text.replace(word, ' ' + word)\n",
    "        \n",
    "    return text.strip()\n",
    "\n",
    "text = \"RegularExpressionIsAnImportantTopicInPython\"\n",
    "result = insert_spaces(text)\n",
    "print(result)\n"
   ]
  },
  {
   "cell_type": "code",
   "execution_count": null,
   "id": "a84635ca",
   "metadata": {},
   "outputs": [],
   "source": []
  },
  {
   "cell_type": "markdown",
   "id": "9b03c0f4",
   "metadata": {},
   "source": [
    "Question 24"
   ]
  },
  {
   "cell_type": "code",
   "execution_count": 30,
   "id": "736e2b05",
   "metadata": {},
   "outputs": [
    {
     "name": "stdout",
     "output_type": "stream",
     "text": [
      "['Hello', 'Team', 'This', 'Project', 'Fliprobo', 'Goodbye']\n"
     ]
    }
   ],
   "source": [
    "import re\n",
    "\n",
    "pattern = r\"[A-Z][a-z]+\"\n",
    "\n",
    "text = \"Hello, Team! This is a Project assigned by Fliprobo. Goodbye!\"\n",
    "\n",
    "matches = re.findall(pattern, text)\n",
    "\n",
    "print(matches)\n"
   ]
  },
  {
   "cell_type": "code",
   "execution_count": null,
   "id": "e388c851",
   "metadata": {},
   "outputs": [],
   "source": []
  },
  {
   "cell_type": "markdown",
   "id": "fa473e83",
   "metadata": {},
   "source": [
    "Question 25"
   ]
  },
  {
   "cell_type": "code",
   "execution_count": 31,
   "id": "50430d9d",
   "metadata": {},
   "outputs": [
    {
     "name": "stdout",
     "output_type": "stream",
     "text": [
      "Hello hello world\n"
     ]
    }
   ],
   "source": [
    "import re\n",
    "\n",
    "def remove_duplicate_words(sentence):\n",
    "    pattern = r'\\b(\\w+)\\s+\\1\\b'\n",
    "    return re.sub(pattern, r'\\1', sentence)\n",
    "\n",
    "\n",
    "sample_text = \"Hello hello world world\"\n",
    "result = remove_duplicate_words(sample_text)\n",
    "print(result)\n"
   ]
  },
  {
   "cell_type": "code",
   "execution_count": null,
   "id": "e887c8a5",
   "metadata": {},
   "outputs": [],
   "source": []
  },
  {
   "cell_type": "markdown",
   "id": "93185b95",
   "metadata": {},
   "source": [
    "Question 26"
   ]
  },
  {
   "cell_type": "code",
   "execution_count": 34,
   "id": "21ce126c",
   "metadata": {},
   "outputs": [
    {
     "name": "stdout",
     "output_type": "stream",
     "text": [
      "Enter a string: We want justice for pluto\n",
      "Valid string!\n"
     ]
    }
   ],
   "source": [
    "import re\n",
    "\n",
    "def validate_string(input_string):\n",
    "    pattern = r'^.*[a-zA-Z0-9]$'  \n",
    "    \n",
    "    if re.match(pattern, input_string):\n",
    "        print(\"Valid string!\")\n",
    "    else:\n",
    "        print(\"Invalid string!\")\n",
    "\n",
    "\n",
    "input_string = input(\"Enter a string: \")\n",
    "validate_string(input_string)\n"
   ]
  },
  {
   "cell_type": "code",
   "execution_count": null,
   "id": "023a6c94",
   "metadata": {},
   "outputs": [],
   "source": []
  },
  {
   "cell_type": "markdown",
   "id": "15b4e752",
   "metadata": {},
   "source": [
    "Question 27"
   ]
  },
  {
   "cell_type": "code",
   "execution_count": 35,
   "id": "630aa62a",
   "metadata": {},
   "outputs": [
    {
     "name": "stdout",
     "output_type": "stream",
     "text": [
      "['#Doltiwal', '#xyzabc', '#Demonetization']\n"
     ]
    }
   ],
   "source": [
    "import re\n",
    "\n",
    "def extract_hashtags(text):\n",
    "    hashtags = re.findall(r'#\\w+', text)\n",
    "    return hashtags\n",
    "\n",
    "sample_text = 'RT @kapil_kausik: #Doltiwal I mean #xyzabc is \"hurt\" by #Demonetization as the same has rendered USELESS <ed><U+00A0><U+00BD><ed><U+00B1><U+0089> \"acquired funds\" No wo'\n",
    "hashtags = extract_hashtags(sample_text)\n",
    "print(hashtags)\n"
   ]
  },
  {
   "cell_type": "code",
   "execution_count": null,
   "id": "60c3ab6b",
   "metadata": {},
   "outputs": [],
   "source": []
  },
  {
   "cell_type": "markdown",
   "id": "3d9ba027",
   "metadata": {},
   "source": [
    "Question 28"
   ]
  },
  {
   "cell_type": "code",
   "execution_count": 36,
   "id": "e72ca7cd",
   "metadata": {},
   "outputs": [
    {
     "name": "stdout",
     "output_type": "stream",
     "text": [
      "@Jags123456 Bharat band on 28??<ed><ed>Those who are protesting #demonetization are all different party leaders\n"
     ]
    }
   ],
   "source": [
    "import re\n",
    "\n",
    "def remove_symbols(text):\n",
    "    cleaned_text = re.sub(r\"<U\\+\\w+>\", \"\", text)\n",
    "    return cleaned_text\n",
    "\n",
    "sample_text = \"@Jags123456 Bharat band on 28??<ed><U+00A0><U+00BD><ed><U+00B8><U+0082>Those who are protesting #demonetization are all different party leaders\"\n",
    "\n",
    "cleaned_text = remove_symbols(sample_text)\n",
    "print(cleaned_text)\n"
   ]
  },
  {
   "cell_type": "code",
   "execution_count": null,
   "id": "7a07f400",
   "metadata": {},
   "outputs": [],
   "source": []
  },
  {
   "cell_type": "markdown",
   "id": "b4890ea6",
   "metadata": {},
   "source": [
    "Question 29"
   ]
  },
  {
   "cell_type": "code",
   "execution_count": 38,
   "id": "5fd7ee51",
   "metadata": {},
   "outputs": [
    {
     "name": "stdout",
     "output_type": "stream",
     "text": [
      "Dates found:\n",
      "12-09-1992\n",
      "15-12-1999\n"
     ]
    }
   ],
   "source": [
    "import re\n",
    "\n",
    "def extract_dates(file_name):\n",
    "    dates = []\n",
    "    date_pattern = re.compile(r'\\d{2}-\\d{2}-\\d{4}')\n",
    "\n",
    "    with open(file_name, 'r') as file:\n",
    "        text = file.read()\n",
    "        matches = date_pattern.findall(text)\n",
    "\n",
    "        for match in matches:\n",
    "            dates.append(match)\n",
    "\n",
    "    return dates\n",
    "\n",
    "\n",
    "file_name = \"\"\"E:\\project practice\\Text1.csv\"\"\"  \n",
    "\n",
    "try:\n",
    "    dates = extract_dates(file_name)\n",
    "    if dates:\n",
    "        print(\"Dates found:\")\n",
    "        for date in dates:\n",
    "            print(date)\n",
    "    else:\n",
    "        print(\"No dates found in the text.\")\n",
    "except FileNotFoundError:\n",
    "    print(\"File not found. Please provide a valid file name.\")\n"
   ]
  },
  {
   "cell_type": "code",
   "execution_count": null,
   "id": "afd7b233",
   "metadata": {},
   "outputs": [],
   "source": []
  },
  {
   "cell_type": "markdown",
   "id": "34955ad3",
   "metadata": {},
   "source": [
    "Question 30"
   ]
  },
  {
   "cell_type": "code",
   "execution_count": 39,
   "id": "b66e0eb9",
   "metadata": {},
   "outputs": [
    {
     "name": "stdout",
     "output_type": "stream",
     "text": [
      " following example creates  ArrayList  a capacity   elements. 4 elements   added   ArrayList   ArrayList  trimmed accordingly.\n"
     ]
    }
   ],
   "source": [
    "import re\n",
    "\n",
    "def remove_words(string):\n",
    "    pattern = re.compile(r'\\b\\w{2,4}\\b')  \n",
    "    return re.sub(pattern, '', string)\n",
    "\n",
    "\n",
    "sample_text = \"The following example creates an ArrayList with a capacity of 50 elements. 4 elements are then added to the ArrayList and the ArrayList is trimmed accordingly.\"\n",
    "result = remove_words(sample_text)\n",
    "print(result)\n"
   ]
  },
  {
   "cell_type": "code",
   "execution_count": null,
   "id": "37ddb7e0",
   "metadata": {},
   "outputs": [],
   "source": []
  },
  {
   "cell_type": "code",
   "execution_count": null,
   "id": "c67f4f9a",
   "metadata": {},
   "outputs": [],
   "source": []
  },
  {
   "cell_type": "code",
   "execution_count": null,
   "id": "cf622670",
   "metadata": {},
   "outputs": [],
   "source": []
  },
  {
   "cell_type": "code",
   "execution_count": null,
   "id": "0e88d44b",
   "metadata": {},
   "outputs": [],
   "source": []
  },
  {
   "cell_type": "code",
   "execution_count": null,
   "id": "e77ad740",
   "metadata": {},
   "outputs": [],
   "source": []
  },
  {
   "cell_type": "code",
   "execution_count": null,
   "id": "15e5226a",
   "metadata": {},
   "outputs": [],
   "source": []
  },
  {
   "cell_type": "code",
   "execution_count": null,
   "id": "7fea2441",
   "metadata": {},
   "outputs": [],
   "source": []
  },
  {
   "cell_type": "code",
   "execution_count": null,
   "id": "4da7e122",
   "metadata": {},
   "outputs": [],
   "source": []
  },
  {
   "cell_type": "code",
   "execution_count": null,
   "id": "dac0c6e3",
   "metadata": {},
   "outputs": [],
   "source": []
  },
  {
   "cell_type": "code",
   "execution_count": null,
   "id": "fa05c246",
   "metadata": {},
   "outputs": [],
   "source": []
  },
  {
   "cell_type": "code",
   "execution_count": null,
   "id": "5fa1f503",
   "metadata": {},
   "outputs": [],
   "source": []
  }
 ],
 "metadata": {
  "kernelspec": {
   "display_name": "Python 3 (ipykernel)",
   "language": "python",
   "name": "python3"
  },
  "language_info": {
   "codemirror_mode": {
    "name": "ipython",
    "version": 3
   },
   "file_extension": ".py",
   "mimetype": "text/x-python",
   "name": "python",
   "nbconvert_exporter": "python",
   "pygments_lexer": "ipython3",
   "version": "3.11.5"
  }
 },
 "nbformat": 4,
 "nbformat_minor": 5
}
